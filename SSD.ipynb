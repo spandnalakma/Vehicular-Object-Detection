{
  "nbformat": 4,
  "nbformat_minor": 0,
  "metadata": {
    "colab": {
      "name": "Untitled2.ipynb",
      "provenance": [],
      "collapsed_sections": []
    },
    "kernelspec": {
      "name": "python3",
      "display_name": "Python 3"
    }
  },
  "cells": [
    {
      "cell_type": "code",
      "metadata": {
        "id": "clF1cRkVO9Wm",
        "colab_type": "code",
        "colab": {}
      },
      "source": [
        "from gluoncv import model_zoo, data, utils\n",
        "from matplotlib import pyplot as plt"
      ],
      "execution_count": 0,
      "outputs": []
    },
    {
      "cell_type": "code",
      "metadata": {
        "id": "CUuCBrOHPO2A",
        "colab_type": "code",
        "colab": {}
      },
      "source": [
        "net = model_zoo.get_model('ssd_512_resnet50_v1_coco', pretrained=True)"
      ],
      "execution_count": 0,
      "outputs": []
    },
    {
      "cell_type": "code",
      "metadata": {
        "id": "lN5QwCtEPXvU",
        "colab_type": "code",
        "colab": {}
      },
      "source": [
        "im_fname = utils.download('../image1.jpg')"
      ],
      "execution_count": 0,
      "outputs": []
    },
    {
      "cell_type": "code",
      "metadata": {
        "id": "Chy1ZuhWPb2g",
        "colab_type": "code",
        "colab": {}
      },
      "source": [
        "x, img = data.transforms.presets.ssd.load_test(im_fname, short=512)\n",
        "class_IDs, scores, bounding_boxes = net(x)\n",
        "\n",
        "ax = utils.viz.plot_bbox(img, bounding_boxes[0], scores[0],\n",
        "                         class_IDs[0], class_names=net.classes)\n",
        "plt.show()\n",
        "car=0\n",
        "truck=0\n",
        "motorcycle=0\n",
        "bus=0\n",
        "position=-1\n",
        "for score in scores[0]:\n",
        "  position = position + 1\n",
        "  if score >= 0.5:\n",
        "    if class_IDs[0][position] == 2:\n",
        "      car = car + 1\n",
        "    if class_IDs[0][position] == 3:\n",
        "      motorcycle = motorcycle + 1\n",
        "    if class_IDs[0][position] == 5:\n",
        "      bus = bus + 1\n",
        "    if class_IDs[0][position] == 7:\n",
        "      truck = truck + 1 \n",
        "print(\"Cars:\"+str(car)+\"\\n\"+\"Motorcycle:\"+str(motorcycle)+\"\\n\"+\"Truck:\"+str(truck)+\"\\n\"+\"Bus:\"+str(bus))"
      ],
      "execution_count": 0,
      "outputs": []
    }
  ]
}